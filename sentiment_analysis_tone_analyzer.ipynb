{
 "cells": [
  {
   "cell_type": "code",
   "execution_count": 69,
   "metadata": {},
   "outputs": [],
   "source": [
    "import pandas as pd\n",
    "from nltk.corpus import stopwords\n",
    "from nltk.stem import LancasterStemmer, WordNetLemmatizer, PorterStemmer\n",
    "from textblob import TextBlob"
   ]
  },
  {
   "cell_type": "markdown",
   "metadata": {},
   "source": [
    "### Authenticate"
   ]
  },
  {
   "cell_type": "code",
   "execution_count": 17,
   "metadata": {},
   "outputs": [],
   "source": [
    "api_key = 'MxCitK6ceUv6HXopqNS9AqPPZDWzuU2I_WqbnQhkO0B3'\n",
    "url = 'https://api.us-south.tone-analyzer.watson.cloud.ibm.com/instances/edeb8d56-917a-4dac-a192-b1bfc7f2eb39'"
   ]
  },
  {
   "cell_type": "code",
   "execution_count": 3,
   "metadata": {},
   "outputs": [],
   "source": [
    "from ibm_watson import ToneAnalyzerV3\n",
    "from ibm_cloud_sdk_core.authenticators import IAMAuthenticator"
   ]
  },
  {
   "cell_type": "code",
   "execution_count": 18,
   "metadata": {},
   "outputs": [],
   "source": [
    "authenticator = IAMAuthenticator(api_key)\n",
    "ta = ToneAnalyzerV3(version = '2017-09-21', authenticator=authenticator)"
   ]
  },
  {
   "cell_type": "code",
   "execution_count": 19,
   "metadata": {},
   "outputs": [],
   "source": [
    "ta.set_service_url(url)"
   ]
  },
  {
   "cell_type": "markdown",
   "metadata": {},
   "source": [
    "### Tone Analysis"
   ]
  },
  {
   "cell_type": "markdown",
   "metadata": {},
   "source": [
    "##### Read data"
   ]
  },
  {
   "cell_type": "code",
   "execution_count": 10,
   "metadata": {},
   "outputs": [],
   "source": [
    "data = pd.read_csv(\"AItextscored_blinded.csv\")"
   ]
  },
  {
   "cell_type": "code",
   "execution_count": 25,
   "metadata": {},
   "outputs": [
    {
     "data": {
      "text/plain": [
       "2001"
      ]
     },
     "execution_count": 25,
     "metadata": {},
     "output_type": "execute_result"
    }
   ],
   "source": [
    "len(data)"
   ]
  },
  {
   "cell_type": "code",
   "execution_count": 11,
   "metadata": {},
   "outputs": [
    {
     "data": {
      "text/html": [
       "<div>\n",
       "<style scoped>\n",
       "    .dataframe tbody tr th:only-of-type {\n",
       "        vertical-align: middle;\n",
       "    }\n",
       "\n",
       "    .dataframe tbody tr th {\n",
       "        vertical-align: top;\n",
       "    }\n",
       "\n",
       "    .dataframe thead th {\n",
       "        text-align: right;\n",
       "    }\n",
       "</style>\n",
       "<table border=\"1\" class=\"dataframe\">\n",
       "  <thead>\n",
       "    <tr style=\"text-align: right;\">\n",
       "      <th></th>\n",
       "      <th>Unnamed: 0</th>\n",
       "      <th>Text</th>\n",
       "    </tr>\n",
       "  </thead>\n",
       "  <tbody>\n",
       "    <tr>\n",
       "      <th>0</th>\n",
       "      <td>0</td>\n",
       "      <td>It has been widely reported that AI. AI will n...</td>\n",
       "    </tr>\n",
       "    <tr>\n",
       "      <th>1</th>\n",
       "      <td>1</td>\n",
       "      <td>I'm sure that AI will mean humans have less wo...</td>\n",
       "    </tr>\n",
       "    <tr>\n",
       "      <th>2</th>\n",
       "      <td>2</td>\n",
       "      <td>Orange dog cat ML I think hello. AI plays an i...</td>\n",
       "    </tr>\n",
       "    <tr>\n",
       "      <th>3</th>\n",
       "      <td>3</td>\n",
       "      <td>I can't think of anything more frightening tha...</td>\n",
       "    </tr>\n",
       "    <tr>\n",
       "      <th>4</th>\n",
       "      <td>4</td>\n",
       "      <td>AI seems to be useful only under very specific...</td>\n",
       "    </tr>\n",
       "  </tbody>\n",
       "</table>\n",
       "</div>"
      ],
      "text/plain": [
       "   Unnamed: 0                                               Text\n",
       "0           0  It has been widely reported that AI. AI will n...\n",
       "1           1  I'm sure that AI will mean humans have less wo...\n",
       "2           2  Orange dog cat ML I think hello. AI plays an i...\n",
       "3           3  I can't think of anything more frightening tha...\n",
       "4           4  AI seems to be useful only under very specific..."
      ]
     },
     "execution_count": 11,
     "metadata": {},
     "output_type": "execute_result"
    }
   ],
   "source": [
    "data.head()"
   ]
  },
  {
   "cell_type": "code",
   "execution_count": null,
   "metadata": {},
   "outputs": [],
   "source": [
    "# ta.tone(\"I am happy\").get_result()"
   ]
  },
  {
   "cell_type": "code",
   "execution_count": 24,
   "metadata": {},
   "outputs": [
    {
     "data": {
      "text/plain": [
       "1504"
      ]
     },
     "execution_count": 24,
     "metadata": {},
     "output_type": "execute_result"
    }
   ],
   "source": [
    "len(result_list)"
   ]
  },
  {
   "cell_type": "code",
   "execution_count": 29,
   "metadata": {},
   "outputs": [],
   "source": [
    "part_2_data = data[1504:]"
   ]
  },
  {
   "cell_type": "code",
   "execution_count": 30,
   "metadata": {},
   "outputs": [
    {
     "data": {
      "text/plain": [
       "497"
      ]
     },
     "execution_count": 30,
     "metadata": {},
     "output_type": "execute_result"
    }
   ],
   "source": [
    "len(part_2_data)"
   ]
  },
  {
   "cell_type": "code",
   "execution_count": 31,
   "metadata": {},
   "outputs": [
    {
     "data": {
      "text/plain": [
       "2001"
      ]
     },
     "execution_count": 31,
     "metadata": {},
     "output_type": "execute_result"
    }
   ],
   "source": [
    "1504+497"
   ]
  },
  {
   "cell_type": "code",
   "execution_count": 22,
   "metadata": {},
   "outputs": [
    {
     "name": "stderr",
     "output_type": "stream",
     "text": [
      "ERROR:root:The connection failed because the SSL certificate is not valid. To use a self-signed certificate, disable verification of the server's SSL certificate by invoking the set_disable_ssl_verification(True) on your service instance and/ or use the disable_ssl_verification option of the authenticator.\n",
      "Traceback (most recent call last):\n",
      "  File \"/opt/anaconda3/lib/python3.7/site-packages/urllib3/contrib/pyopenssl.py\", line 485, in wrap_socket\n",
      "    cnx.do_handshake()\n",
      "  File \"/opt/anaconda3/lib/python3.7/site-packages/OpenSSL/SSL.py\", line 1934, in do_handshake\n",
      "    self._raise_ssl_error(self._ssl, result)\n",
      "  File \"/opt/anaconda3/lib/python3.7/site-packages/OpenSSL/SSL.py\", line 1663, in _raise_ssl_error\n",
      "    raise SysCallError(errno, errorcode.get(errno))\n",
      "OpenSSL.SSL.SysCallError: (54, 'ECONNRESET')\n",
      "\n",
      "During handling of the above exception, another exception occurred:\n",
      "\n",
      "Traceback (most recent call last):\n",
      "  File \"/opt/anaconda3/lib/python3.7/site-packages/urllib3/connectionpool.py\", line 672, in urlopen\n",
      "    chunked=chunked,\n",
      "  File \"/opt/anaconda3/lib/python3.7/site-packages/urllib3/connectionpool.py\", line 376, in _make_request\n",
      "    self._validate_conn(conn)\n",
      "  File \"/opt/anaconda3/lib/python3.7/site-packages/urllib3/connectionpool.py\", line 994, in _validate_conn\n",
      "    conn.connect()\n",
      "  File \"/opt/anaconda3/lib/python3.7/site-packages/urllib3/connection.py\", line 360, in connect\n",
      "    ssl_context=context,\n",
      "  File \"/opt/anaconda3/lib/python3.7/site-packages/urllib3/util/ssl_.py\", line 370, in ssl_wrap_socket\n",
      "    return context.wrap_socket(sock, server_hostname=server_hostname)\n",
      "  File \"/opt/anaconda3/lib/python3.7/site-packages/urllib3/contrib/pyopenssl.py\", line 491, in wrap_socket\n",
      "    raise ssl.SSLError(\"bad handshake: %r\" % e)\n",
      "ssl.SSLError: (\"bad handshake: SysCallError(54, 'ECONNRESET')\",)\n",
      "\n",
      "During handling of the above exception, another exception occurred:\n",
      "\n",
      "Traceback (most recent call last):\n",
      "  File \"/opt/anaconda3/lib/python3.7/site-packages/requests/adapters.py\", line 449, in send\n",
      "    timeout=timeout\n",
      "  File \"/opt/anaconda3/lib/python3.7/site-packages/urllib3/connectionpool.py\", line 720, in urlopen\n",
      "    method, url, error=e, _pool=self, _stacktrace=sys.exc_info()[2]\n",
      "  File \"/opt/anaconda3/lib/python3.7/site-packages/urllib3/util/retry.py\", line 436, in increment\n",
      "    raise MaxRetryError(_pool, url, error or ResponseError(cause))\n",
      "urllib3.exceptions.MaxRetryError: HTTPSConnectionPool(host='api.us-south.tone-analyzer.watson.cloud.ibm.com', port=443): Max retries exceeded with url: /instances/edeb8d56-917a-4dac-a192-b1bfc7f2eb39/v3/tone?version=2017-09-21 (Caused by SSLError(SSLError(\"bad handshake: SysCallError(54, 'ECONNRESET')\")))\n",
      "\n",
      "During handling of the above exception, another exception occurred:\n",
      "\n",
      "Traceback (most recent call last):\n",
      "  File \"/opt/anaconda3/lib/python3.7/site-packages/ibm_cloud_sdk_core/base_service.py\", line 248, in send\n",
      "    **kwargs)\n",
      "  File \"/opt/anaconda3/lib/python3.7/site-packages/requests/sessions.py\", line 530, in request\n",
      "    resp = self.send(prep, **send_kwargs)\n",
      "  File \"/opt/anaconda3/lib/python3.7/site-packages/requests/sessions.py\", line 643, in send\n",
      "    r = adapter.send(request, **kwargs)\n",
      "  File \"/opt/anaconda3/lib/python3.7/site-packages/requests/adapters.py\", line 514, in send\n",
      "    raise SSLError(e, request=request)\n",
      "requests.exceptions.SSLError: HTTPSConnectionPool(host='api.us-south.tone-analyzer.watson.cloud.ibm.com', port=443): Max retries exceeded with url: /instances/edeb8d56-917a-4dac-a192-b1bfc7f2eb39/v3/tone?version=2017-09-21 (Caused by SSLError(SSLError(\"bad handshake: SysCallError(54, 'ECONNRESET')\")))\n"
     ]
    },
    {
     "ename": "SSLError",
     "evalue": "HTTPSConnectionPool(host='api.us-south.tone-analyzer.watson.cloud.ibm.com', port=443): Max retries exceeded with url: /instances/edeb8d56-917a-4dac-a192-b1bfc7f2eb39/v3/tone?version=2017-09-21 (Caused by SSLError(SSLError(\"bad handshake: SysCallError(54, 'ECONNRESET')\")))",
     "output_type": "error",
     "traceback": [
      "\u001b[0;31m---------------------------------------------------------------------------\u001b[0m",
      "\u001b[0;31mSysCallError\u001b[0m                              Traceback (most recent call last)",
      "\u001b[0;32m/opt/anaconda3/lib/python3.7/site-packages/urllib3/contrib/pyopenssl.py\u001b[0m in \u001b[0;36mwrap_socket\u001b[0;34m(self, sock, server_side, do_handshake_on_connect, suppress_ragged_eofs, server_hostname)\u001b[0m\n\u001b[1;32m    484\u001b[0m             \u001b[0;32mtry\u001b[0m\u001b[0;34m:\u001b[0m\u001b[0;34m\u001b[0m\u001b[0;34m\u001b[0m\u001b[0m\n\u001b[0;32m--> 485\u001b[0;31m                 \u001b[0mcnx\u001b[0m\u001b[0;34m.\u001b[0m\u001b[0mdo_handshake\u001b[0m\u001b[0;34m(\u001b[0m\u001b[0;34m)\u001b[0m\u001b[0;34m\u001b[0m\u001b[0;34m\u001b[0m\u001b[0m\n\u001b[0m\u001b[1;32m    486\u001b[0m             \u001b[0;32mexcept\u001b[0m \u001b[0mOpenSSL\u001b[0m\u001b[0;34m.\u001b[0m\u001b[0mSSL\u001b[0m\u001b[0;34m.\u001b[0m\u001b[0mWantReadError\u001b[0m\u001b[0;34m:\u001b[0m\u001b[0;34m\u001b[0m\u001b[0;34m\u001b[0m\u001b[0m\n",
      "\u001b[0;32m/opt/anaconda3/lib/python3.7/site-packages/OpenSSL/SSL.py\u001b[0m in \u001b[0;36mdo_handshake\u001b[0;34m(self)\u001b[0m\n\u001b[1;32m   1933\u001b[0m         \u001b[0mresult\u001b[0m \u001b[0;34m=\u001b[0m \u001b[0m_lib\u001b[0m\u001b[0;34m.\u001b[0m\u001b[0mSSL_do_handshake\u001b[0m\u001b[0;34m(\u001b[0m\u001b[0mself\u001b[0m\u001b[0;34m.\u001b[0m\u001b[0m_ssl\u001b[0m\u001b[0;34m)\u001b[0m\u001b[0;34m\u001b[0m\u001b[0;34m\u001b[0m\u001b[0m\n\u001b[0;32m-> 1934\u001b[0;31m         \u001b[0mself\u001b[0m\u001b[0;34m.\u001b[0m\u001b[0m_raise_ssl_error\u001b[0m\u001b[0;34m(\u001b[0m\u001b[0mself\u001b[0m\u001b[0;34m.\u001b[0m\u001b[0m_ssl\u001b[0m\u001b[0;34m,\u001b[0m \u001b[0mresult\u001b[0m\u001b[0;34m)\u001b[0m\u001b[0;34m\u001b[0m\u001b[0;34m\u001b[0m\u001b[0m\n\u001b[0m\u001b[1;32m   1935\u001b[0m \u001b[0;34m\u001b[0m\u001b[0m\n",
      "\u001b[0;32m/opt/anaconda3/lib/python3.7/site-packages/OpenSSL/SSL.py\u001b[0m in \u001b[0;36m_raise_ssl_error\u001b[0;34m(self, ssl, result)\u001b[0m\n\u001b[1;32m   1662\u001b[0m                     \u001b[0;32mif\u001b[0m \u001b[0merrno\u001b[0m \u001b[0;34m!=\u001b[0m \u001b[0;36m0\u001b[0m\u001b[0;34m:\u001b[0m\u001b[0;34m\u001b[0m\u001b[0;34m\u001b[0m\u001b[0m\n\u001b[0;32m-> 1663\u001b[0;31m                         \u001b[0;32mraise\u001b[0m \u001b[0mSysCallError\u001b[0m\u001b[0;34m(\u001b[0m\u001b[0merrno\u001b[0m\u001b[0;34m,\u001b[0m \u001b[0merrorcode\u001b[0m\u001b[0;34m.\u001b[0m\u001b[0mget\u001b[0m\u001b[0;34m(\u001b[0m\u001b[0merrno\u001b[0m\u001b[0;34m)\u001b[0m\u001b[0;34m)\u001b[0m\u001b[0;34m\u001b[0m\u001b[0;34m\u001b[0m\u001b[0m\n\u001b[0m\u001b[1;32m   1664\u001b[0m                 \u001b[0;32mraise\u001b[0m \u001b[0mSysCallError\u001b[0m\u001b[0;34m(\u001b[0m\u001b[0;34m-\u001b[0m\u001b[0;36m1\u001b[0m\u001b[0;34m,\u001b[0m \u001b[0;34m\"Unexpected EOF\"\u001b[0m\u001b[0;34m)\u001b[0m\u001b[0;34m\u001b[0m\u001b[0;34m\u001b[0m\u001b[0m\n",
      "\u001b[0;31mSysCallError\u001b[0m: (54, 'ECONNRESET')",
      "\nDuring handling of the above exception, another exception occurred:\n",
      "\u001b[0;31mSSLError\u001b[0m                                  Traceback (most recent call last)",
      "\u001b[0;32m/opt/anaconda3/lib/python3.7/site-packages/urllib3/connectionpool.py\u001b[0m in \u001b[0;36murlopen\u001b[0;34m(self, method, url, body, headers, retries, redirect, assert_same_host, timeout, pool_timeout, release_conn, chunked, body_pos, **response_kw)\u001b[0m\n\u001b[1;32m    671\u001b[0m                 \u001b[0mheaders\u001b[0m\u001b[0;34m=\u001b[0m\u001b[0mheaders\u001b[0m\u001b[0;34m,\u001b[0m\u001b[0;34m\u001b[0m\u001b[0;34m\u001b[0m\u001b[0m\n\u001b[0;32m--> 672\u001b[0;31m                 \u001b[0mchunked\u001b[0m\u001b[0;34m=\u001b[0m\u001b[0mchunked\u001b[0m\u001b[0;34m,\u001b[0m\u001b[0;34m\u001b[0m\u001b[0;34m\u001b[0m\u001b[0m\n\u001b[0m\u001b[1;32m    673\u001b[0m             )\n",
      "\u001b[0;32m/opt/anaconda3/lib/python3.7/site-packages/urllib3/connectionpool.py\u001b[0m in \u001b[0;36m_make_request\u001b[0;34m(self, conn, method, url, timeout, chunked, **httplib_request_kw)\u001b[0m\n\u001b[1;32m    375\u001b[0m         \u001b[0;32mtry\u001b[0m\u001b[0;34m:\u001b[0m\u001b[0;34m\u001b[0m\u001b[0;34m\u001b[0m\u001b[0m\n\u001b[0;32m--> 376\u001b[0;31m             \u001b[0mself\u001b[0m\u001b[0;34m.\u001b[0m\u001b[0m_validate_conn\u001b[0m\u001b[0;34m(\u001b[0m\u001b[0mconn\u001b[0m\u001b[0;34m)\u001b[0m\u001b[0;34m\u001b[0m\u001b[0;34m\u001b[0m\u001b[0m\n\u001b[0m\u001b[1;32m    377\u001b[0m         \u001b[0;32mexcept\u001b[0m \u001b[0;34m(\u001b[0m\u001b[0mSocketTimeout\u001b[0m\u001b[0;34m,\u001b[0m \u001b[0mBaseSSLError\u001b[0m\u001b[0;34m)\u001b[0m \u001b[0;32mas\u001b[0m \u001b[0me\u001b[0m\u001b[0;34m:\u001b[0m\u001b[0;34m\u001b[0m\u001b[0;34m\u001b[0m\u001b[0m\n",
      "\u001b[0;32m/opt/anaconda3/lib/python3.7/site-packages/urllib3/connectionpool.py\u001b[0m in \u001b[0;36m_validate_conn\u001b[0;34m(self, conn)\u001b[0m\n\u001b[1;32m    993\u001b[0m         \u001b[0;32mif\u001b[0m \u001b[0;32mnot\u001b[0m \u001b[0mgetattr\u001b[0m\u001b[0;34m(\u001b[0m\u001b[0mconn\u001b[0m\u001b[0;34m,\u001b[0m \u001b[0;34m\"sock\"\u001b[0m\u001b[0;34m,\u001b[0m \u001b[0;32mNone\u001b[0m\u001b[0;34m)\u001b[0m\u001b[0;34m:\u001b[0m  \u001b[0;31m# AppEngine might not have  `.sock`\u001b[0m\u001b[0;34m\u001b[0m\u001b[0;34m\u001b[0m\u001b[0m\n\u001b[0;32m--> 994\u001b[0;31m             \u001b[0mconn\u001b[0m\u001b[0;34m.\u001b[0m\u001b[0mconnect\u001b[0m\u001b[0;34m(\u001b[0m\u001b[0;34m)\u001b[0m\u001b[0;34m\u001b[0m\u001b[0;34m\u001b[0m\u001b[0m\n\u001b[0m\u001b[1;32m    995\u001b[0m \u001b[0;34m\u001b[0m\u001b[0m\n",
      "\u001b[0;32m/opt/anaconda3/lib/python3.7/site-packages/urllib3/connection.py\u001b[0m in \u001b[0;36mconnect\u001b[0;34m(self)\u001b[0m\n\u001b[1;32m    359\u001b[0m             \u001b[0mserver_hostname\u001b[0m\u001b[0;34m=\u001b[0m\u001b[0mserver_hostname\u001b[0m\u001b[0;34m,\u001b[0m\u001b[0;34m\u001b[0m\u001b[0;34m\u001b[0m\u001b[0m\n\u001b[0;32m--> 360\u001b[0;31m             \u001b[0mssl_context\u001b[0m\u001b[0;34m=\u001b[0m\u001b[0mcontext\u001b[0m\u001b[0;34m,\u001b[0m\u001b[0;34m\u001b[0m\u001b[0;34m\u001b[0m\u001b[0m\n\u001b[0m\u001b[1;32m    361\u001b[0m         )\n",
      "\u001b[0;32m/opt/anaconda3/lib/python3.7/site-packages/urllib3/util/ssl_.py\u001b[0m in \u001b[0;36mssl_wrap_socket\u001b[0;34m(sock, keyfile, certfile, cert_reqs, ca_certs, server_hostname, ssl_version, ciphers, ssl_context, ca_cert_dir, key_password)\u001b[0m\n\u001b[1;32m    369\u001b[0m         \u001b[0;32mif\u001b[0m \u001b[0mHAS_SNI\u001b[0m \u001b[0;32mand\u001b[0m \u001b[0mserver_hostname\u001b[0m \u001b[0;32mis\u001b[0m \u001b[0;32mnot\u001b[0m \u001b[0;32mNone\u001b[0m\u001b[0;34m:\u001b[0m\u001b[0;34m\u001b[0m\u001b[0;34m\u001b[0m\u001b[0m\n\u001b[0;32m--> 370\u001b[0;31m             \u001b[0;32mreturn\u001b[0m \u001b[0mcontext\u001b[0m\u001b[0;34m.\u001b[0m\u001b[0mwrap_socket\u001b[0m\u001b[0;34m(\u001b[0m\u001b[0msock\u001b[0m\u001b[0;34m,\u001b[0m \u001b[0mserver_hostname\u001b[0m\u001b[0;34m=\u001b[0m\u001b[0mserver_hostname\u001b[0m\u001b[0;34m)\u001b[0m\u001b[0;34m\u001b[0m\u001b[0;34m\u001b[0m\u001b[0m\n\u001b[0m\u001b[1;32m    371\u001b[0m \u001b[0;34m\u001b[0m\u001b[0m\n",
      "\u001b[0;32m/opt/anaconda3/lib/python3.7/site-packages/urllib3/contrib/pyopenssl.py\u001b[0m in \u001b[0;36mwrap_socket\u001b[0;34m(self, sock, server_side, do_handshake_on_connect, suppress_ragged_eofs, server_hostname)\u001b[0m\n\u001b[1;32m    490\u001b[0m             \u001b[0;32mexcept\u001b[0m \u001b[0mOpenSSL\u001b[0m\u001b[0;34m.\u001b[0m\u001b[0mSSL\u001b[0m\u001b[0;34m.\u001b[0m\u001b[0mError\u001b[0m \u001b[0;32mas\u001b[0m \u001b[0me\u001b[0m\u001b[0;34m:\u001b[0m\u001b[0;34m\u001b[0m\u001b[0;34m\u001b[0m\u001b[0m\n\u001b[0;32m--> 491\u001b[0;31m                 \u001b[0;32mraise\u001b[0m \u001b[0mssl\u001b[0m\u001b[0;34m.\u001b[0m\u001b[0mSSLError\u001b[0m\u001b[0;34m(\u001b[0m\u001b[0;34m\"bad handshake: %r\"\u001b[0m \u001b[0;34m%\u001b[0m \u001b[0me\u001b[0m\u001b[0;34m)\u001b[0m\u001b[0;34m\u001b[0m\u001b[0;34m\u001b[0m\u001b[0m\n\u001b[0m\u001b[1;32m    492\u001b[0m             \u001b[0;32mbreak\u001b[0m\u001b[0;34m\u001b[0m\u001b[0;34m\u001b[0m\u001b[0m\n",
      "\u001b[0;31mSSLError\u001b[0m: (\"bad handshake: SysCallError(54, 'ECONNRESET')\",)",
      "\nDuring handling of the above exception, another exception occurred:\n",
      "\u001b[0;31mMaxRetryError\u001b[0m                             Traceback (most recent call last)",
      "\u001b[0;32m/opt/anaconda3/lib/python3.7/site-packages/requests/adapters.py\u001b[0m in \u001b[0;36msend\u001b[0;34m(self, request, stream, timeout, verify, cert, proxies)\u001b[0m\n\u001b[1;32m    448\u001b[0m                     \u001b[0mretries\u001b[0m\u001b[0;34m=\u001b[0m\u001b[0mself\u001b[0m\u001b[0;34m.\u001b[0m\u001b[0mmax_retries\u001b[0m\u001b[0;34m,\u001b[0m\u001b[0;34m\u001b[0m\u001b[0;34m\u001b[0m\u001b[0m\n\u001b[0;32m--> 449\u001b[0;31m                     \u001b[0mtimeout\u001b[0m\u001b[0;34m=\u001b[0m\u001b[0mtimeout\u001b[0m\u001b[0;34m\u001b[0m\u001b[0;34m\u001b[0m\u001b[0m\n\u001b[0m\u001b[1;32m    450\u001b[0m                 )\n",
      "\u001b[0;32m/opt/anaconda3/lib/python3.7/site-packages/urllib3/connectionpool.py\u001b[0m in \u001b[0;36murlopen\u001b[0;34m(self, method, url, body, headers, retries, redirect, assert_same_host, timeout, pool_timeout, release_conn, chunked, body_pos, **response_kw)\u001b[0m\n\u001b[1;32m    719\u001b[0m             retries = retries.increment(\n\u001b[0;32m--> 720\u001b[0;31m                 \u001b[0mmethod\u001b[0m\u001b[0;34m,\u001b[0m \u001b[0murl\u001b[0m\u001b[0;34m,\u001b[0m \u001b[0merror\u001b[0m\u001b[0;34m=\u001b[0m\u001b[0me\u001b[0m\u001b[0;34m,\u001b[0m \u001b[0m_pool\u001b[0m\u001b[0;34m=\u001b[0m\u001b[0mself\u001b[0m\u001b[0;34m,\u001b[0m \u001b[0m_stacktrace\u001b[0m\u001b[0;34m=\u001b[0m\u001b[0msys\u001b[0m\u001b[0;34m.\u001b[0m\u001b[0mexc_info\u001b[0m\u001b[0;34m(\u001b[0m\u001b[0;34m)\u001b[0m\u001b[0;34m[\u001b[0m\u001b[0;36m2\u001b[0m\u001b[0;34m]\u001b[0m\u001b[0;34m\u001b[0m\u001b[0;34m\u001b[0m\u001b[0m\n\u001b[0m\u001b[1;32m    721\u001b[0m             )\n",
      "\u001b[0;32m/opt/anaconda3/lib/python3.7/site-packages/urllib3/util/retry.py\u001b[0m in \u001b[0;36mincrement\u001b[0;34m(self, method, url, response, error, _pool, _stacktrace)\u001b[0m\n\u001b[1;32m    435\u001b[0m         \u001b[0;32mif\u001b[0m \u001b[0mnew_retry\u001b[0m\u001b[0;34m.\u001b[0m\u001b[0mis_exhausted\u001b[0m\u001b[0;34m(\u001b[0m\u001b[0;34m)\u001b[0m\u001b[0;34m:\u001b[0m\u001b[0;34m\u001b[0m\u001b[0;34m\u001b[0m\u001b[0m\n\u001b[0;32m--> 436\u001b[0;31m             \u001b[0;32mraise\u001b[0m \u001b[0mMaxRetryError\u001b[0m\u001b[0;34m(\u001b[0m\u001b[0m_pool\u001b[0m\u001b[0;34m,\u001b[0m \u001b[0murl\u001b[0m\u001b[0;34m,\u001b[0m \u001b[0merror\u001b[0m \u001b[0;32mor\u001b[0m \u001b[0mResponseError\u001b[0m\u001b[0;34m(\u001b[0m\u001b[0mcause\u001b[0m\u001b[0;34m)\u001b[0m\u001b[0;34m)\u001b[0m\u001b[0;34m\u001b[0m\u001b[0;34m\u001b[0m\u001b[0m\n\u001b[0m\u001b[1;32m    437\u001b[0m \u001b[0;34m\u001b[0m\u001b[0m\n",
      "\u001b[0;31mMaxRetryError\u001b[0m: HTTPSConnectionPool(host='api.us-south.tone-analyzer.watson.cloud.ibm.com', port=443): Max retries exceeded with url: /instances/edeb8d56-917a-4dac-a192-b1bfc7f2eb39/v3/tone?version=2017-09-21 (Caused by SSLError(SSLError(\"bad handshake: SysCallError(54, 'ECONNRESET')\")))",
      "\nDuring handling of the above exception, another exception occurred:\n",
      "\u001b[0;31mSSLError\u001b[0m                                  Traceback (most recent call last)",
      "\u001b[0;32m<timed exec>\u001b[0m in \u001b[0;36m<module>\u001b[0;34m\u001b[0m\n",
      "\u001b[0;32m/opt/anaconda3/lib/python3.7/site-packages/ibm_watson/tone_analyzer_v3.py\u001b[0m in \u001b[0;36mtone\u001b[0;34m(self, tone_input, content_type, sentences, tones, content_language, accept_language, **kwargs)\u001b[0m\n\u001b[1;32m    185\u001b[0m                                        data=data)\n\u001b[1;32m    186\u001b[0m \u001b[0;34m\u001b[0m\u001b[0m\n\u001b[0;32m--> 187\u001b[0;31m         \u001b[0mresponse\u001b[0m \u001b[0;34m=\u001b[0m \u001b[0mself\u001b[0m\u001b[0;34m.\u001b[0m\u001b[0msend\u001b[0m\u001b[0;34m(\u001b[0m\u001b[0mrequest\u001b[0m\u001b[0;34m)\u001b[0m\u001b[0;34m\u001b[0m\u001b[0;34m\u001b[0m\u001b[0m\n\u001b[0m\u001b[1;32m    188\u001b[0m         \u001b[0;32mreturn\u001b[0m \u001b[0mresponse\u001b[0m\u001b[0;34m\u001b[0m\u001b[0;34m\u001b[0m\u001b[0m\n\u001b[1;32m    189\u001b[0m \u001b[0;34m\u001b[0m\u001b[0m\n",
      "\u001b[0;32m/opt/anaconda3/lib/python3.7/site-packages/ibm_cloud_sdk_core/base_service.py\u001b[0m in \u001b[0;36msend\u001b[0;34m(self, request, **kwargs)\u001b[0m\n\u001b[1;32m    246\u001b[0m             response = self.http_client.request(**request,\n\u001b[1;32m    247\u001b[0m                                                 \u001b[0mcookies\u001b[0m\u001b[0;34m=\u001b[0m\u001b[0mself\u001b[0m\u001b[0;34m.\u001b[0m\u001b[0mjar\u001b[0m\u001b[0;34m,\u001b[0m\u001b[0;34m\u001b[0m\u001b[0;34m\u001b[0m\u001b[0m\n\u001b[0;32m--> 248\u001b[0;31m                                                 **kwargs)\n\u001b[0m\u001b[1;32m    249\u001b[0m \u001b[0;34m\u001b[0m\u001b[0m\n\u001b[1;32m    250\u001b[0m             \u001b[0;32mif\u001b[0m \u001b[0;36m200\u001b[0m \u001b[0;34m<=\u001b[0m \u001b[0mresponse\u001b[0m\u001b[0;34m.\u001b[0m\u001b[0mstatus_code\u001b[0m \u001b[0;34m<=\u001b[0m \u001b[0;36m299\u001b[0m\u001b[0;34m:\u001b[0m\u001b[0;34m\u001b[0m\u001b[0;34m\u001b[0m\u001b[0m\n",
      "\u001b[0;32m/opt/anaconda3/lib/python3.7/site-packages/requests/sessions.py\u001b[0m in \u001b[0;36mrequest\u001b[0;34m(self, method, url, params, data, headers, cookies, files, auth, timeout, allow_redirects, proxies, hooks, stream, verify, cert, json)\u001b[0m\n\u001b[1;32m    528\u001b[0m         }\n\u001b[1;32m    529\u001b[0m         \u001b[0msend_kwargs\u001b[0m\u001b[0;34m.\u001b[0m\u001b[0mupdate\u001b[0m\u001b[0;34m(\u001b[0m\u001b[0msettings\u001b[0m\u001b[0;34m)\u001b[0m\u001b[0;34m\u001b[0m\u001b[0;34m\u001b[0m\u001b[0m\n\u001b[0;32m--> 530\u001b[0;31m         \u001b[0mresp\u001b[0m \u001b[0;34m=\u001b[0m \u001b[0mself\u001b[0m\u001b[0;34m.\u001b[0m\u001b[0msend\u001b[0m\u001b[0;34m(\u001b[0m\u001b[0mprep\u001b[0m\u001b[0;34m,\u001b[0m \u001b[0;34m**\u001b[0m\u001b[0msend_kwargs\u001b[0m\u001b[0;34m)\u001b[0m\u001b[0;34m\u001b[0m\u001b[0;34m\u001b[0m\u001b[0m\n\u001b[0m\u001b[1;32m    531\u001b[0m \u001b[0;34m\u001b[0m\u001b[0m\n\u001b[1;32m    532\u001b[0m         \u001b[0;32mreturn\u001b[0m \u001b[0mresp\u001b[0m\u001b[0;34m\u001b[0m\u001b[0;34m\u001b[0m\u001b[0m\n",
      "\u001b[0;32m/opt/anaconda3/lib/python3.7/site-packages/requests/sessions.py\u001b[0m in \u001b[0;36msend\u001b[0;34m(self, request, **kwargs)\u001b[0m\n\u001b[1;32m    641\u001b[0m \u001b[0;34m\u001b[0m\u001b[0m\n\u001b[1;32m    642\u001b[0m         \u001b[0;31m# Send the request\u001b[0m\u001b[0;34m\u001b[0m\u001b[0;34m\u001b[0m\u001b[0;34m\u001b[0m\u001b[0m\n\u001b[0;32m--> 643\u001b[0;31m         \u001b[0mr\u001b[0m \u001b[0;34m=\u001b[0m \u001b[0madapter\u001b[0m\u001b[0;34m.\u001b[0m\u001b[0msend\u001b[0m\u001b[0;34m(\u001b[0m\u001b[0mrequest\u001b[0m\u001b[0;34m,\u001b[0m \u001b[0;34m**\u001b[0m\u001b[0mkwargs\u001b[0m\u001b[0;34m)\u001b[0m\u001b[0;34m\u001b[0m\u001b[0;34m\u001b[0m\u001b[0m\n\u001b[0m\u001b[1;32m    644\u001b[0m \u001b[0;34m\u001b[0m\u001b[0m\n\u001b[1;32m    645\u001b[0m         \u001b[0;31m# Total elapsed time of the request (approximately)\u001b[0m\u001b[0;34m\u001b[0m\u001b[0;34m\u001b[0m\u001b[0;34m\u001b[0m\u001b[0m\n",
      "\u001b[0;32m/opt/anaconda3/lib/python3.7/site-packages/requests/adapters.py\u001b[0m in \u001b[0;36msend\u001b[0;34m(self, request, stream, timeout, verify, cert, proxies)\u001b[0m\n\u001b[1;32m    512\u001b[0m             \u001b[0;32mif\u001b[0m \u001b[0misinstance\u001b[0m\u001b[0;34m(\u001b[0m\u001b[0me\u001b[0m\u001b[0;34m.\u001b[0m\u001b[0mreason\u001b[0m\u001b[0;34m,\u001b[0m \u001b[0m_SSLError\u001b[0m\u001b[0;34m)\u001b[0m\u001b[0;34m:\u001b[0m\u001b[0;34m\u001b[0m\u001b[0;34m\u001b[0m\u001b[0m\n\u001b[1;32m    513\u001b[0m                 \u001b[0;31m# This branch is for urllib3 v1.22 and later.\u001b[0m\u001b[0;34m\u001b[0m\u001b[0;34m\u001b[0m\u001b[0;34m\u001b[0m\u001b[0m\n\u001b[0;32m--> 514\u001b[0;31m                 \u001b[0;32mraise\u001b[0m \u001b[0mSSLError\u001b[0m\u001b[0;34m(\u001b[0m\u001b[0me\u001b[0m\u001b[0;34m,\u001b[0m \u001b[0mrequest\u001b[0m\u001b[0;34m=\u001b[0m\u001b[0mrequest\u001b[0m\u001b[0;34m)\u001b[0m\u001b[0;34m\u001b[0m\u001b[0;34m\u001b[0m\u001b[0m\n\u001b[0m\u001b[1;32m    515\u001b[0m \u001b[0;34m\u001b[0m\u001b[0m\n\u001b[1;32m    516\u001b[0m             \u001b[0;32mraise\u001b[0m \u001b[0mConnectionError\u001b[0m\u001b[0;34m(\u001b[0m\u001b[0me\u001b[0m\u001b[0;34m,\u001b[0m \u001b[0mrequest\u001b[0m\u001b[0;34m=\u001b[0m\u001b[0mrequest\u001b[0m\u001b[0;34m)\u001b[0m\u001b[0;34m\u001b[0m\u001b[0;34m\u001b[0m\u001b[0m\n",
      "\u001b[0;31mSSLError\u001b[0m: HTTPSConnectionPool(host='api.us-south.tone-analyzer.watson.cloud.ibm.com', port=443): Max retries exceeded with url: /instances/edeb8d56-917a-4dac-a192-b1bfc7f2eb39/v3/tone?version=2017-09-21 (Caused by SSLError(SSLError(\"bad handshake: SysCallError(54, 'ECONNRESET')\")))"
     ]
    }
   ],
   "source": [
    "%%time\n",
    "result_list = []\n",
    "for index, row in data.iterrows():\n",
    "    result_list.append(ta.tone(row[\"Text\"]).get_result())\n",
    "    \n",
    "#     print(row[\"Text\"])\n",
    "    "
   ]
  },
  {
   "cell_type": "code",
   "execution_count": 32,
   "metadata": {},
   "outputs": [
    {
     "name": "stdout",
     "output_type": "stream",
     "text": [
      "CPU times: user 2.34 s, sys: 242 ms, total: 2.58 s\n",
      "Wall time: 3min 9s\n"
     ]
    }
   ],
   "source": [
    "%%time\n",
    "result_list_2 = []\n",
    "for index, row in part_2_data.iterrows():\n",
    "    result_list_2.append(ta.tone(row[\"Text\"]).get_result())"
   ]
  },
  {
   "cell_type": "code",
   "execution_count": 33,
   "metadata": {},
   "outputs": [],
   "source": [
    "final_list = result_list + result_list_2"
   ]
  },
  {
   "cell_type": "code",
   "execution_count": 34,
   "metadata": {},
   "outputs": [
    {
     "data": {
      "text/plain": [
       "2001"
      ]
     },
     "execution_count": 34,
     "metadata": {},
     "output_type": "execute_result"
    }
   ],
   "source": [
    "len(final_list)"
   ]
  },
  {
   "cell_type": "markdown",
   "metadata": {},
   "source": [
    "#### Get document score"
   ]
  },
  {
   "cell_type": "code",
   "execution_count": 45,
   "metadata": {},
   "outputs": [],
   "source": [
    "document_score_list = []\n",
    "for i in range(len(final_list)):\n",
    "    document_score_list.append(final_list[i].get('document_tone').get('tones'))"
   ]
  },
  {
   "cell_type": "code",
   "execution_count": 54,
   "metadata": {},
   "outputs": [
    {
     "data": {
      "text/plain": [
       "[[{'score': 0.84639, 'tone_id': 'tentative', 'tone_name': 'Tentative'},\n",
       "  {'score': 0.89196, 'tone_id': 'analytical', 'tone_name': 'Analytical'}],\n",
       " [{'score': 0.58429, 'tone_id': 'sadness', 'tone_name': 'Sadness'},\n",
       "  {'score': 0.940379, 'tone_id': 'analytical', 'tone_name': 'Analytical'}],\n",
       " [{'score': 0.773748, 'tone_id': 'analytical', 'tone_name': 'Analytical'}],\n",
       " [{'score': 0.882284, 'tone_id': 'analytical', 'tone_name': 'Analytical'}],\n",
       " [{'score': 0.654595, 'tone_id': 'joy', 'tone_name': 'Joy'},\n",
       "  {'score': 0.852741, 'tone_id': 'analytical', 'tone_name': 'Analytical'},\n",
       "  {'score': 0.746645, 'tone_id': 'tentative', 'tone_name': 'Tentative'}]]"
      ]
     },
     "execution_count": 54,
     "metadata": {},
     "output_type": "execute_result"
    }
   ],
   "source": [
    "document_score_list[:5]"
   ]
  },
  {
   "cell_type": "code",
   "execution_count": 52,
   "metadata": {},
   "outputs": [
    {
     "data": {
      "text/plain": [
       "{'score': 0.84639, 'tone_id': 'tentative', 'tone_name': 'Tentative'}"
      ]
     },
     "execution_count": 52,
     "metadata": {},
     "output_type": "execute_result"
    }
   ],
   "source": [
    "final_list[0].get('document_tone').get('tones')[0]"
   ]
  },
  {
   "cell_type": "code",
   "execution_count": 112,
   "metadata": {},
   "outputs": [],
   "source": [
    "# final_list"
   ]
  },
  {
   "cell_type": "markdown",
   "metadata": {},
   "source": [
    "#### Get unique tone"
   ]
  },
  {
   "cell_type": "code",
   "execution_count": 119,
   "metadata": {},
   "outputs": [
    {
     "data": {
      "text/plain": [
       "[[{'score': 0.84639, 'tone_id': 'tentative', 'tone_name': 'Tentative'},\n",
       "  {'score': 0.89196, 'tone_id': 'analytical', 'tone_name': 'Analytical'}],\n",
       " [{'score': 0.58429, 'tone_id': 'sadness', 'tone_name': 'Sadness'},\n",
       "  {'score': 0.940379, 'tone_id': 'analytical', 'tone_name': 'Analytical'}]]"
      ]
     },
     "execution_count": 119,
     "metadata": {},
     "output_type": "execute_result"
    }
   ],
   "source": [
    "document_score_list[:2]"
   ]
  },
  {
   "cell_type": "code",
   "execution_count": 117,
   "metadata": {},
   "outputs": [
    {
     "data": {
      "text/plain": [
       "'tentative'"
      ]
     },
     "execution_count": 117,
     "metadata": {},
     "output_type": "execute_result"
    }
   ],
   "source": [
    "document_score_list[0][0].get('tone_id')"
   ]
  },
  {
   "cell_type": "code",
   "execution_count": 123,
   "metadata": {},
   "outputs": [],
   "source": [
    "tone_word_list = []\n",
    "for each_document in document_score_list:\n",
    "    for i in range(len(each_document)):\n",
    "        tone_word_list.append(each_document[i].get('tone_id'))\n",
    "        "
   ]
  },
  {
   "cell_type": "code",
   "execution_count": 126,
   "metadata": {},
   "outputs": [],
   "source": [
    "tone_word_unique = set(tone_word_list)"
   ]
  },
  {
   "cell_type": "code",
   "execution_count": 127,
   "metadata": {},
   "outputs": [
    {
     "data": {
      "text/plain": [
       "{'analytical', 'confident', 'fear', 'joy', 'sadness', 'tentative'}"
      ]
     },
     "execution_count": 127,
     "metadata": {},
     "output_type": "execute_result"
    }
   ],
   "source": [
    "tone_word_unique"
   ]
  },
  {
   "cell_type": "code",
   "execution_count": 43,
   "metadata": {},
   "outputs": [],
   "source": [
    "data[\"score_full\"] = final_list"
   ]
  },
  {
   "cell_type": "code",
   "execution_count": 109,
   "metadata": {},
   "outputs": [
    {
     "data": {
      "text/plain": [
       "[{'document_tone': {'tones': [{'score': 0.84639,\n",
       "     'tone_id': 'tentative',\n",
       "     'tone_name': 'Tentative'},\n",
       "    {'score': 0.89196, 'tone_id': 'analytical', 'tone_name': 'Analytical'}]},\n",
       "  'sentences_tone': [{'sentence_id': 0,\n",
       "    'text': 'It has been widely reported that AI.',\n",
       "    'tones': []},\n",
       "   {'sentence_id': 1,\n",
       "    'text': 'AI will not have much of an effect on the world.',\n",
       "    'tones': [{'score': 0.862286,\n",
       "      'tone_id': 'analytical',\n",
       "      'tone_name': 'Analytical'}]},\n",
       "   {'sentence_id': 2,\n",
       "    'text': 'AI is often not the most practical solution.',\n",
       "    'tones': [{'score': 0.532714, 'tone_id': 'joy', 'tone_name': 'Joy'},\n",
       "     {'score': 0.88939, 'tone_id': 'tentative', 'tone_name': 'Tentative'},\n",
       "     {'score': 0.762356,\n",
       "      'tone_id': 'analytical',\n",
       "      'tone_name': 'Analytical'}]}]},\n",
       " {'document_tone': {'tones': [{'score': 0.58429,\n",
       "     'tone_id': 'sadness',\n",
       "     'tone_name': 'Sadness'},\n",
       "    {'score': 0.940379, 'tone_id': 'analytical', 'tone_name': 'Analytical'}]},\n",
       "  'sentences_tone': [{'sentence_id': 0,\n",
       "    'text': \"I'm sure that AI will mean humans have less work to do - but will that be a good or a bad thing?\",\n",
       "    'tones': [{'score': 0.538695,\n",
       "      'tone_id': 'sadness',\n",
       "      'tone_name': 'Sadness'}]},\n",
       "   {'sentence_id': 1,\n",
       "    'text': \"I don't know.\",\n",
       "    'tones': [{'score': 0.955445,\n",
       "      'tone_id': 'analytical',\n",
       "      'tone_name': 'Analytical'}]},\n",
       "   {'sentence_id': 2,\n",
       "    'text': 'AI products and solutions will ultimately be backed by human decision-making because machines cannot take responsibility for decisions.',\n",
       "    'tones': [{'score': 0.920855,\n",
       "      'tone_id': 'analytical',\n",
       "      'tone_name': 'Analytical'}]}]}]"
      ]
     },
     "execution_count": 109,
     "metadata": {},
     "output_type": "execute_result"
    }
   ],
   "source": [
    "final_list[:2]"
   ]
  },
  {
   "cell_type": "code",
   "execution_count": 44,
   "metadata": {},
   "outputs": [
    {
     "data": {
      "text/html": [
       "<div>\n",
       "<style scoped>\n",
       "    .dataframe tbody tr th:only-of-type {\n",
       "        vertical-align: middle;\n",
       "    }\n",
       "\n",
       "    .dataframe tbody tr th {\n",
       "        vertical-align: top;\n",
       "    }\n",
       "\n",
       "    .dataframe thead th {\n",
       "        text-align: right;\n",
       "    }\n",
       "</style>\n",
       "<table border=\"1\" class=\"dataframe\">\n",
       "  <thead>\n",
       "    <tr style=\"text-align: right;\">\n",
       "      <th></th>\n",
       "      <th>Unnamed: 0</th>\n",
       "      <th>Text</th>\n",
       "      <th>score_full</th>\n",
       "    </tr>\n",
       "  </thead>\n",
       "  <tbody>\n",
       "    <tr>\n",
       "      <th>0</th>\n",
       "      <td>0</td>\n",
       "      <td>It has been widely reported that AI. AI will n...</td>\n",
       "      <td>{'document_tone': {'tones': [{'score': 0.84639...</td>\n",
       "    </tr>\n",
       "    <tr>\n",
       "      <th>1</th>\n",
       "      <td>1</td>\n",
       "      <td>I'm sure that AI will mean humans have less wo...</td>\n",
       "      <td>{'document_tone': {'tones': [{'score': 0.58429...</td>\n",
       "    </tr>\n",
       "    <tr>\n",
       "      <th>2</th>\n",
       "      <td>2</td>\n",
       "      <td>Orange dog cat ML I think hello. AI plays an i...</td>\n",
       "      <td>{'document_tone': {'tones': [{'score': 0.77374...</td>\n",
       "    </tr>\n",
       "    <tr>\n",
       "      <th>3</th>\n",
       "      <td>3</td>\n",
       "      <td>I can't think of anything more frightening tha...</td>\n",
       "      <td>{'document_tone': {'tones': [{'score': 0.88228...</td>\n",
       "    </tr>\n",
       "    <tr>\n",
       "      <th>4</th>\n",
       "      <td>4</td>\n",
       "      <td>AI seems to be useful only under very specific...</td>\n",
       "      <td>{'document_tone': {'tones': [{'score': 0.65459...</td>\n",
       "    </tr>\n",
       "  </tbody>\n",
       "</table>\n",
       "</div>"
      ],
      "text/plain": [
       "   Unnamed: 0                                               Text  \\\n",
       "0           0  It has been widely reported that AI. AI will n...   \n",
       "1           1  I'm sure that AI will mean humans have less wo...   \n",
       "2           2  Orange dog cat ML I think hello. AI plays an i...   \n",
       "3           3  I can't think of anything more frightening tha...   \n",
       "4           4  AI seems to be useful only under very specific...   \n",
       "\n",
       "                                          score_full  \n",
       "0  {'document_tone': {'tones': [{'score': 0.84639...  \n",
       "1  {'document_tone': {'tones': [{'score': 0.58429...  \n",
       "2  {'document_tone': {'tones': [{'score': 0.77374...  \n",
       "3  {'document_tone': {'tones': [{'score': 0.88228...  \n",
       "4  {'document_tone': {'tones': [{'score': 0.65459...  "
      ]
     },
     "execution_count": 44,
     "metadata": {},
     "output_type": "execute_result"
    }
   ],
   "source": [
    "data.head()"
   ]
  },
  {
   "cell_type": "code",
   "execution_count": null,
   "metadata": {},
   "outputs": [],
   "source": []
  },
  {
   "cell_type": "code",
   "execution_count": 48,
   "metadata": {},
   "outputs": [],
   "source": [
    "data[\"score_document_score\"] = document_score_list"
   ]
  },
  {
   "cell_type": "code",
   "execution_count": 49,
   "metadata": {},
   "outputs": [
    {
     "data": {
      "text/html": [
       "<div>\n",
       "<style scoped>\n",
       "    .dataframe tbody tr th:only-of-type {\n",
       "        vertical-align: middle;\n",
       "    }\n",
       "\n",
       "    .dataframe tbody tr th {\n",
       "        vertical-align: top;\n",
       "    }\n",
       "\n",
       "    .dataframe thead th {\n",
       "        text-align: right;\n",
       "    }\n",
       "</style>\n",
       "<table border=\"1\" class=\"dataframe\">\n",
       "  <thead>\n",
       "    <tr style=\"text-align: right;\">\n",
       "      <th></th>\n",
       "      <th>Unnamed: 0</th>\n",
       "      <th>Text</th>\n",
       "      <th>score_full</th>\n",
       "      <th>score_document_score</th>\n",
       "    </tr>\n",
       "  </thead>\n",
       "  <tbody>\n",
       "    <tr>\n",
       "      <th>0</th>\n",
       "      <td>0</td>\n",
       "      <td>It has been widely reported that AI. AI will n...</td>\n",
       "      <td>{'document_tone': {'tones': [{'score': 0.84639...</td>\n",
       "      <td>[{'score': 0.84639, 'tone_id': 'tentative', 't...</td>\n",
       "    </tr>\n",
       "    <tr>\n",
       "      <th>1</th>\n",
       "      <td>1</td>\n",
       "      <td>I'm sure that AI will mean humans have less wo...</td>\n",
       "      <td>{'document_tone': {'tones': [{'score': 0.58429...</td>\n",
       "      <td>[{'score': 0.58429, 'tone_id': 'sadness', 'ton...</td>\n",
       "    </tr>\n",
       "    <tr>\n",
       "      <th>2</th>\n",
       "      <td>2</td>\n",
       "      <td>Orange dog cat ML I think hello. AI plays an i...</td>\n",
       "      <td>{'document_tone': {'tones': [{'score': 0.77374...</td>\n",
       "      <td>[{'score': 0.773748, 'tone_id': 'analytical', ...</td>\n",
       "    </tr>\n",
       "    <tr>\n",
       "      <th>3</th>\n",
       "      <td>3</td>\n",
       "      <td>I can't think of anything more frightening tha...</td>\n",
       "      <td>{'document_tone': {'tones': [{'score': 0.88228...</td>\n",
       "      <td>[{'score': 0.882284, 'tone_id': 'analytical', ...</td>\n",
       "    </tr>\n",
       "    <tr>\n",
       "      <th>4</th>\n",
       "      <td>4</td>\n",
       "      <td>AI seems to be useful only under very specific...</td>\n",
       "      <td>{'document_tone': {'tones': [{'score': 0.65459...</td>\n",
       "      <td>[{'score': 0.654595, 'tone_id': 'joy', 'tone_n...</td>\n",
       "    </tr>\n",
       "  </tbody>\n",
       "</table>\n",
       "</div>"
      ],
      "text/plain": [
       "   Unnamed: 0                                               Text  \\\n",
       "0           0  It has been widely reported that AI. AI will n...   \n",
       "1           1  I'm sure that AI will mean humans have less wo...   \n",
       "2           2  Orange dog cat ML I think hello. AI plays an i...   \n",
       "3           3  I can't think of anything more frightening tha...   \n",
       "4           4  AI seems to be useful only under very specific...   \n",
       "\n",
       "                                          score_full  \\\n",
       "0  {'document_tone': {'tones': [{'score': 0.84639...   \n",
       "1  {'document_tone': {'tones': [{'score': 0.58429...   \n",
       "2  {'document_tone': {'tones': [{'score': 0.77374...   \n",
       "3  {'document_tone': {'tones': [{'score': 0.88228...   \n",
       "4  {'document_tone': {'tones': [{'score': 0.65459...   \n",
       "\n",
       "                                score_document_score  \n",
       "0  [{'score': 0.84639, 'tone_id': 'tentative', 't...  \n",
       "1  [{'score': 0.58429, 'tone_id': 'sadness', 'ton...  \n",
       "2  [{'score': 0.773748, 'tone_id': 'analytical', ...  \n",
       "3  [{'score': 0.882284, 'tone_id': 'analytical', ...  \n",
       "4  [{'score': 0.654595, 'tone_id': 'joy', 'tone_n...  "
      ]
     },
     "execution_count": 49,
     "metadata": {},
     "output_type": "execute_result"
    }
   ],
   "source": [
    "data.head()"
   ]
  },
  {
   "cell_type": "code",
   "execution_count": 60,
   "metadata": {},
   "outputs": [],
   "source": [
    "data.to_csv(\"AItext_with_tone_analyzer.csv\")"
   ]
  },
  {
   "cell_type": "markdown",
   "metadata": {},
   "source": [
    "#### Visualization"
   ]
  },
  {
   "cell_type": "code",
   "execution_count": 132,
   "metadata": {},
   "outputs": [],
   "source": [
    "## Get the first two elements in the dictionary\n",
    "from itertools import islice\n",
    "\n",
    "def take(n, iterable):\n",
    "    \"Return first n items of the iterable as a list\"\n",
    "    return list(islice(iterable, n))"
   ]
  },
  {
   "cell_type": "code",
   "execution_count": 135,
   "metadata": {},
   "outputs": [],
   "source": [
    "n_items = take(2, document_score_list[0][0].items())"
   ]
  },
  {
   "cell_type": "code",
   "execution_count": 136,
   "metadata": {},
   "outputs": [
    {
     "data": {
      "text/plain": [
       "[('score', 0.84639), ('tone_id', 'tentative')]"
      ]
     },
     "execution_count": 136,
     "metadata": {},
     "output_type": "execute_result"
    }
   ],
   "source": [
    "n_items"
   ]
  },
  {
   "cell_type": "code",
   "execution_count": 208,
   "metadata": {},
   "outputs": [],
   "source": [
    "tone_word_list = []\n",
    "for each_doc in document_score_list:\n",
    "    each_doc_list = []\n",
    "    for i in range(len(each_doc)):\n",
    "        each_doc_list.append(take(2, each_doc[i].items()))\n",
    "    tone_word_list.append(each_doc_list)"
   ]
  },
  {
   "cell_type": "code",
   "execution_count": 209,
   "metadata": {},
   "outputs": [
    {
     "data": {
      "text/plain": [
       "[[[('score', 0.84639), ('tone_id', 'tentative')],\n",
       "  [('score', 0.89196), ('tone_id', 'analytical')]],\n",
       " [[('score', 0.58429), ('tone_id', 'sadness')],\n",
       "  [('score', 0.940379), ('tone_id', 'analytical')]]]"
      ]
     },
     "execution_count": 209,
     "metadata": {},
     "output_type": "execute_result"
    }
   ],
   "source": [
    "tone_word_list[:2]"
   ]
  },
  {
   "cell_type": "code",
   "execution_count": 146,
   "metadata": {},
   "outputs": [],
   "source": [
    "first_sentence = tone_word_list[0]"
   ]
  },
  {
   "cell_type": "code",
   "execution_count": 147,
   "metadata": {},
   "outputs": [
    {
     "data": {
      "text/plain": [
       "[[('score', 0.84639), ('tone_id', 'tentative')],\n",
       " [('score', 0.89196), ('tone_id', 'analytical')]]"
      ]
     },
     "execution_count": 147,
     "metadata": {},
     "output_type": "execute_result"
    }
   ],
   "source": [
    "first_sentence"
   ]
  },
  {
   "cell_type": "code",
   "execution_count": 154,
   "metadata": {},
   "outputs": [],
   "source": [
    "plot_list = []\n",
    "for each_tone in first_sentence:\n",
    "    plot_list.append([x[1] for x in each_tone])"
   ]
  },
  {
   "cell_type": "code",
   "execution_count": 155,
   "metadata": {},
   "outputs": [
    {
     "data": {
      "text/plain": [
       "[[0.84639, 'tentative'], [0.89196, 'analytical']]"
      ]
     },
     "execution_count": 155,
     "metadata": {},
     "output_type": "execute_result"
    }
   ],
   "source": [
    "plot_list"
   ]
  },
  {
   "cell_type": "code",
   "execution_count": 165,
   "metadata": {},
   "outputs": [],
   "source": [
    "xAxis = []\n",
    "for i in plot_list:\n",
    "    xAxis.append(i[0])\n"
   ]
  },
  {
   "cell_type": "code",
   "execution_count": 166,
   "metadata": {},
   "outputs": [],
   "source": [
    "yAxis = []\n",
    "for y in plot_list:\n",
    "    yAxis.append(y[1])"
   ]
  },
  {
   "cell_type": "code",
   "execution_count": 167,
   "metadata": {},
   "outputs": [
    {
     "data": {
      "text/plain": [
       "['tentative', 'analytical']"
      ]
     },
     "execution_count": 167,
     "metadata": {},
     "output_type": "execute_result"
    }
   ],
   "source": [
    "yAxis"
   ]
  },
  {
   "cell_type": "code",
   "execution_count": 201,
   "metadata": {},
   "outputs": [
    {
     "data": {
      "image/png": "[encoded data removed]",
      "text/plain": [
       "<Figure size 432x288 with 1 Axes>"
      ]
     },
     "metadata": {
      "needs_background": "light"
     },
     "output_type": "display_data"
    }
   ],
   "source": [
    "import matplotlib.pyplot as plt\n",
    "import numpy as np\n",
    "plt.bar(yAxis, xAxis, width=0.3, color=('#FF5733', '#179BD5'))\n",
    "plt.title('sentimen of user a')\n",
    "plt.xlabel('sentiment_score')\n",
    "plt.ylabel('Tones')\n",
    "plt.yticks(np.arange(0, 1, step=0.1))\n",
    "plt.show()"
   ]
  },
  {
   "cell_type": "code",
   "execution_count": 210,
   "metadata": {},
   "outputs": [],
   "source": [
    "second_sentence = tone_word_list[1]"
   ]
  },
  {
   "cell_type": "code",
   "execution_count": 211,
   "metadata": {},
   "outputs": [],
   "source": [
    "plot_list_2 = []\n",
    "for each_tone_2 in second_sentence:\n",
    "    plot_list_2.append([x[1] for x in each_tone_2])"
   ]
  },
  {
   "cell_type": "code",
   "execution_count": 212,
   "metadata": {},
   "outputs": [],
   "source": [
    "xAxis_2 = []\n",
    "for i in plot_list_2:\n",
    "    xAxis_2.append(i[0])"
   ]
  },
  {
   "cell_type": "code",
   "execution_count": 213,
   "metadata": {},
   "outputs": [],
   "source": [
    "yAxis_2 = []\n",
    "for y in plot_list_2:\n",
    "    yAxis_2.append(y[1])"
   ]
  },
  {
   "cell_type": "code",
   "execution_count": 215,
   "metadata": {},
   "outputs": [
    {
     "data": {
      "image/png": "[encoded data removed]",
      "text/plain": [
       "<Figure size 432x288 with 1 Axes>"
      ]
     },
     "metadata": {
      "needs_background": "light"
     },
     "output_type": "display_data"
    }
   ],
   "source": [
    "\n",
    "plt.bar(yAxis_2, xAxis_2, width=0.3, color=('#FF5733', '#179BD5'))\n",
    "plt.title('sentimen of user b')\n",
    "plt.xlabel('sentiment_score')\n",
    "plt.ylabel('Tones')\n",
    "plt.yticks(np.arange(0, 1, step=0.1))\n",
    "plt.show()"
   ]
  },
  {
   "cell_type": "code",
   "execution_count": 128,
   "metadata": {},
   "outputs": [
    {
     "data": {
      "text/plain": [
       "[[{'score': 0.84639, 'tone_id': 'tentative', 'tone_name': 'Tentative'},\n",
       "  {'score': 0.89196, 'tone_id': 'analytical', 'tone_name': 'Analytical'}],\n",
       " [{'score': 0.58429, 'tone_id': 'sadness', 'tone_name': 'Sadness'},\n",
       "  {'score': 0.940379, 'tone_id': 'analytical', 'tone_name': 'Analytical'}]]"
      ]
     },
     "execution_count": 128,
     "metadata": {},
     "output_type": "execute_result"
    }
   ],
   "source": [
    "document_score_list[:2]"
   ]
  },
  {
   "cell_type": "code",
   "execution_count": 131,
   "metadata": {},
   "outputs": [
    {
     "data": {
      "text/plain": [
       "[{'score': 0.84639, 'tone_id': 'tentative', 'tone_name': 'Tentative'},\n",
       " {'score': 0.89196, 'tone_id': 'analytical', 'tone_name': 'Analytical'}]"
      ]
     },
     "execution_count": 131,
     "metadata": {},
     "output_type": "execute_result"
    }
   ],
   "source": [
    "document_score_list[0]"
   ]
  },
  {
   "cell_type": "markdown",
   "metadata": {},
   "source": [
    "### My sentiment analysis"
   ]
  },
  {
   "cell_type": "code",
   "execution_count": 110,
   "metadata": {},
   "outputs": [],
   "source": [
    "# https://data-science-blog.com/blog/2018/11/04/sentiment-analysis-using-python/"
   ]
  },
  {
   "cell_type": "code",
   "execution_count": 63,
   "metadata": {},
   "outputs": [],
   "source": [
    "# change review type to string\n",
    "data['Text'] = data['Text'].astype(str)\n",
    "# lower case\n",
    "data['Text'] = data['Text'].apply(lambda x: \" \".join(x.lower() for x in x.split()))\n"
   ]
  },
  {
   "cell_type": "code",
   "execution_count": 64,
   "metadata": {},
   "outputs": [],
   "source": [
    "## remove punctuation\n",
    "data['Text'] = data['Text'].str.replace('[^\\w\\s]','')"
   ]
  },
  {
   "cell_type": "code",
   "execution_count": 66,
   "metadata": {},
   "outputs": [],
   "source": [
    "# Stop words\n",
    "stop = stopwords.words('english')\n",
    "data['Text'] = data['Text'].apply(lambda x: \" \".join(x for x in x.split() if x not in stop))"
   ]
  },
  {
   "cell_type": "code",
   "execution_count": 75,
   "metadata": {},
   "outputs": [
    {
     "data": {
      "text/plain": [
       "0                    (0.05, 0.30000000000000004)\n",
       "1    (0.0029761904761904973, 0.5728174603174603)\n",
       "2                                     (0.4, 1.0)\n",
       "3                    (0.15000000000000002, 0.95)\n",
       "4                                 (0.192, 0.333)\n",
       "Name: senti_score, dtype: object"
      ]
     },
     "execution_count": 75,
     "metadata": {},
     "output_type": "execute_result"
    }
   ],
   "source": [
    "# the first score is sentiment polarity which tells if the sentiment is positive or negative and \n",
    "# the second score is subjectivity score to tell how subjective is the text.\n",
    "def senti(x):\n",
    "    return TextBlob(x).sentiment  \n",
    " \n",
    "data['senti_score'] = data['Text'].apply(senti)\n",
    " \n",
    "data.senti_score.head()"
   ]
  },
  {
   "cell_type": "code",
   "execution_count": 77,
   "metadata": {},
   "outputs": [
    {
     "data": {
      "text/html": [
       "<div>\n",
       "<style scoped>\n",
       "    .dataframe tbody tr th:only-of-type {\n",
       "        vertical-align: middle;\n",
       "    }\n",
       "\n",
       "    .dataframe tbody tr th {\n",
       "        vertical-align: top;\n",
       "    }\n",
       "\n",
       "    .dataframe thead th {\n",
       "        text-align: right;\n",
       "    }\n",
       "</style>\n",
       "<table border=\"1\" class=\"dataframe\">\n",
       "  <thead>\n",
       "    <tr style=\"text-align: right;\">\n",
       "      <th></th>\n",
       "      <th>Unnamed: 0</th>\n",
       "      <th>Text</th>\n",
       "      <th>score_full</th>\n",
       "      <th>score_document_score</th>\n",
       "      <th>stemming</th>\n",
       "      <th>senti_score</th>\n",
       "    </tr>\n",
       "  </thead>\n",
       "  <tbody>\n",
       "    <tr>\n",
       "      <th>0</th>\n",
       "      <td>0</td>\n",
       "      <td>widely reported ai ai much effect world ai oft...</td>\n",
       "      <td>{'document_tone': {'tones': [{'score': 0.84639...</td>\n",
       "      <td>[{'score': 0.84639, 'tone_id': 'tentative', 't...</td>\n",
       "      <td>wide report ai ai much effect world ai often p...</td>\n",
       "      <td>(0.05, 0.30000000000000004)</td>\n",
       "    </tr>\n",
       "    <tr>\n",
       "      <th>1</th>\n",
       "      <td>1</td>\n",
       "      <td>im sure ai mean humans less work good bad thin...</td>\n",
       "      <td>{'document_tone': {'tones': [{'score': 0.58429...</td>\n",
       "      <td>[{'score': 0.58429, 'tone_id': 'sadness', 'ton...</td>\n",
       "      <td>im sure ai mean human less work good bad thing...</td>\n",
       "      <td>(0.0029761904761904973, 0.5728174603174603)</td>\n",
       "    </tr>\n",
       "    <tr>\n",
       "      <th>2</th>\n",
       "      <td>2</td>\n",
       "      <td>orange dog cat ml think hello ai plays importa...</td>\n",
       "      <td>{'document_tone': {'tones': [{'score': 0.77374...</td>\n",
       "      <td>[{'score': 0.773748, 'tone_id': 'analytical', ...</td>\n",
       "      <td>orang dog cat ml think hello ai play import ro...</td>\n",
       "      <td>(0.4, 1.0)</td>\n",
       "    </tr>\n",
       "    <tr>\n",
       "      <th>3</th>\n",
       "      <td>3</td>\n",
       "      <td>cant think anything frightening machines truly...</td>\n",
       "      <td>{'document_tone': {'tones': [{'score': 0.88228...</td>\n",
       "      <td>[{'score': 0.882284, 'tone_id': 'analytical', ...</td>\n",
       "      <td>cant think anyth frighten machin truli intelli...</td>\n",
       "      <td>(0.15000000000000002, 0.95)</td>\n",
       "    </tr>\n",
       "    <tr>\n",
       "      <th>4</th>\n",
       "      <td>4</td>\n",
       "      <td>ai seems useful specific circumstances ai prob...</td>\n",
       "      <td>{'document_tone': {'tones': [{'score': 0.65459...</td>\n",
       "      <td>[{'score': 0.654595, 'tone_id': 'joy', 'tone_n...</td>\n",
       "      <td>ai seem use specif circumst ai probabl acceler...</td>\n",
       "      <td>(0.192, 0.333)</td>\n",
       "    </tr>\n",
       "    <tr>\n",
       "      <th>5</th>\n",
       "      <td>5</td>\n",
       "      <td>west hollywood worker ml grocery ai lead us fr...</td>\n",
       "      <td>{'document_tone': {'tones': [{'score': 0.53078...</td>\n",
       "      <td>[{'score': 0.530786, 'tone_id': 'analytical', ...</td>\n",
       "      <td>west hollywood worker ml groceri ai lead us fr...</td>\n",
       "      <td>(0.4, 0.8)</td>\n",
       "    </tr>\n",
       "    <tr>\n",
       "      <th>6</th>\n",
       "      <td>6</td>\n",
       "      <td>although ai helpful time humans may lose certa...</td>\n",
       "      <td>{'document_tone': {'tones': [{'score': 0.88340...</td>\n",
       "      <td>[{'score': 0.883404, 'tone_id': 'analytical', ...</td>\n",
       "      <td>although ai help time human may lose certain k...</td>\n",
       "      <td>(0.21428571428571427, 0.5714285714285714)</td>\n",
       "    </tr>\n",
       "    <tr>\n",
       "      <th>7</th>\n",
       "      <td>7</td>\n",
       "      <td>ai pose existential threat mankind ml twinkle ...</td>\n",
       "      <td>{'document_tone': {'tones': [{'score': 0.58498...</td>\n",
       "      <td>[{'score': 0.584988, 'tone_id': 'fear', 'tone_...</td>\n",
       "      <td>ai pose existenti threat mankind ml twinkl twi...</td>\n",
       "      <td>(0.203125, 0.525)</td>\n",
       "    </tr>\n",
       "    <tr>\n",
       "      <th>8</th>\n",
       "      <td>8</td>\n",
       "      <td>ai make business efficient means products affo...</td>\n",
       "      <td>{'document_tone': {'tones': [{'score': 0.75509...</td>\n",
       "      <td>[{'score': 0.75509, 'tone_id': 'sadness', 'ton...</td>\n",
       "      <td>ai make busi effici mean product afford everyo...</td>\n",
       "      <td>(-0.21999999999999997, 0.4933333333333333)</td>\n",
       "    </tr>\n",
       "    <tr>\n",
       "      <th>9</th>\n",
       "      <td>9</td>\n",
       "      <td>ai already making childhood scifi dreams reali...</td>\n",
       "      <td>{'document_tone': {'tones': [{'score': 0.61026...</td>\n",
       "      <td>[{'score': 0.610264, 'tone_id': 'joy', 'tone_n...</td>\n",
       "      <td>ai alreadi make childhood scifi dream realiti ...</td>\n",
       "      <td>(0.6, 0.6000000000000001)</td>\n",
       "    </tr>\n",
       "  </tbody>\n",
       "</table>\n",
       "</div>"
      ],
      "text/plain": [
       "   Unnamed: 0                                               Text  \\\n",
       "0           0  widely reported ai ai much effect world ai oft...   \n",
       "1           1  im sure ai mean humans less work good bad thin...   \n",
       "2           2  orange dog cat ml think hello ai plays importa...   \n",
       "3           3  cant think anything frightening machines truly...   \n",
       "4           4  ai seems useful specific circumstances ai prob...   \n",
       "5           5  west hollywood worker ml grocery ai lead us fr...   \n",
       "6           6  although ai helpful time humans may lose certa...   \n",
       "7           7  ai pose existential threat mankind ml twinkle ...   \n",
       "8           8  ai make business efficient means products affo...   \n",
       "9           9  ai already making childhood scifi dreams reali...   \n",
       "\n",
       "                                          score_full  \\\n",
       "0  {'document_tone': {'tones': [{'score': 0.84639...   \n",
       "1  {'document_tone': {'tones': [{'score': 0.58429...   \n",
       "2  {'document_tone': {'tones': [{'score': 0.77374...   \n",
       "3  {'document_tone': {'tones': [{'score': 0.88228...   \n",
       "4  {'document_tone': {'tones': [{'score': 0.65459...   \n",
       "5  {'document_tone': {'tones': [{'score': 0.53078...   \n",
       "6  {'document_tone': {'tones': [{'score': 0.88340...   \n",
       "7  {'document_tone': {'tones': [{'score': 0.58498...   \n",
       "8  {'document_tone': {'tones': [{'score': 0.75509...   \n",
       "9  {'document_tone': {'tones': [{'score': 0.61026...   \n",
       "\n",
       "                                score_document_score  \\\n",
       "0  [{'score': 0.84639, 'tone_id': 'tentative', 't...   \n",
       "1  [{'score': 0.58429, 'tone_id': 'sadness', 'ton...   \n",
       "2  [{'score': 0.773748, 'tone_id': 'analytical', ...   \n",
       "3  [{'score': 0.882284, 'tone_id': 'analytical', ...   \n",
       "4  [{'score': 0.654595, 'tone_id': 'joy', 'tone_n...   \n",
       "5  [{'score': 0.530786, 'tone_id': 'analytical', ...   \n",
       "6  [{'score': 0.883404, 'tone_id': 'analytical', ...   \n",
       "7  [{'score': 0.584988, 'tone_id': 'fear', 'tone_...   \n",
       "8  [{'score': 0.75509, 'tone_id': 'sadness', 'ton...   \n",
       "9  [{'score': 0.610264, 'tone_id': 'joy', 'tone_n...   \n",
       "\n",
       "                                            stemming  \\\n",
       "0  wide report ai ai much effect world ai often p...   \n",
       "1  im sure ai mean human less work good bad thing...   \n",
       "2  orang dog cat ml think hello ai play import ro...   \n",
       "3  cant think anyth frighten machin truli intelli...   \n",
       "4  ai seem use specif circumst ai probabl acceler...   \n",
       "5  west hollywood worker ml groceri ai lead us fr...   \n",
       "6  although ai help time human may lose certain k...   \n",
       "7  ai pose existenti threat mankind ml twinkl twi...   \n",
       "8  ai make busi effici mean product afford everyo...   \n",
       "9  ai alreadi make childhood scifi dream realiti ...   \n",
       "\n",
       "                                   senti_score  \n",
       "0                  (0.05, 0.30000000000000004)  \n",
       "1  (0.0029761904761904973, 0.5728174603174603)  \n",
       "2                                   (0.4, 1.0)  \n",
       "3                  (0.15000000000000002, 0.95)  \n",
       "4                               (0.192, 0.333)  \n",
       "5                                   (0.4, 0.8)  \n",
       "6    (0.21428571428571427, 0.5714285714285714)  \n",
       "7                            (0.203125, 0.525)  \n",
       "8   (-0.21999999999999997, 0.4933333333333333)  \n",
       "9                    (0.6, 0.6000000000000001)  "
      ]
     },
     "execution_count": 77,
     "metadata": {},
     "output_type": "execute_result"
    }
   ],
   "source": [
    "data.head(10)"
   ]
  },
  {
   "cell_type": "code",
   "execution_count": 78,
   "metadata": {},
   "outputs": [],
   "source": [
    "textblob_sentiment = data[[\"Text\", \"senti_score\"]]"
   ]
  },
  {
   "cell_type": "code",
   "execution_count": 79,
   "metadata": {},
   "outputs": [
    {
     "data": {
      "text/html": [
       "<div>\n",
       "<style scoped>\n",
       "    .dataframe tbody tr th:only-of-type {\n",
       "        vertical-align: middle;\n",
       "    }\n",
       "\n",
       "    .dataframe tbody tr th {\n",
       "        vertical-align: top;\n",
       "    }\n",
       "\n",
       "    .dataframe thead th {\n",
       "        text-align: right;\n",
       "    }\n",
       "</style>\n",
       "<table border=\"1\" class=\"dataframe\">\n",
       "  <thead>\n",
       "    <tr style=\"text-align: right;\">\n",
       "      <th></th>\n",
       "      <th>Text</th>\n",
       "      <th>senti_score</th>\n",
       "    </tr>\n",
       "  </thead>\n",
       "  <tbody>\n",
       "    <tr>\n",
       "      <th>0</th>\n",
       "      <td>widely reported ai ai much effect world ai oft...</td>\n",
       "      <td>(0.05, 0.30000000000000004)</td>\n",
       "    </tr>\n",
       "    <tr>\n",
       "      <th>1</th>\n",
       "      <td>im sure ai mean humans less work good bad thin...</td>\n",
       "      <td>(0.0029761904761904973, 0.5728174603174603)</td>\n",
       "    </tr>\n",
       "    <tr>\n",
       "      <th>2</th>\n",
       "      <td>orange dog cat ml think hello ai plays importa...</td>\n",
       "      <td>(0.4, 1.0)</td>\n",
       "    </tr>\n",
       "    <tr>\n",
       "      <th>3</th>\n",
       "      <td>cant think anything frightening machines truly...</td>\n",
       "      <td>(0.15000000000000002, 0.95)</td>\n",
       "    </tr>\n",
       "    <tr>\n",
       "      <th>4</th>\n",
       "      <td>ai seems useful specific circumstances ai prob...</td>\n",
       "      <td>(0.192, 0.333)</td>\n",
       "    </tr>\n",
       "  </tbody>\n",
       "</table>\n",
       "</div>"
      ],
      "text/plain": [
       "                                                Text  \\\n",
       "0  widely reported ai ai much effect world ai oft...   \n",
       "1  im sure ai mean humans less work good bad thin...   \n",
       "2  orange dog cat ml think hello ai plays importa...   \n",
       "3  cant think anything frightening machines truly...   \n",
       "4  ai seems useful specific circumstances ai prob...   \n",
       "\n",
       "                                   senti_score  \n",
       "0                  (0.05, 0.30000000000000004)  \n",
       "1  (0.0029761904761904973, 0.5728174603174603)  \n",
       "2                                   (0.4, 1.0)  \n",
       "3                  (0.15000000000000002, 0.95)  \n",
       "4                               (0.192, 0.333)  "
      ]
     },
     "execution_count": 79,
     "metadata": {},
     "output_type": "execute_result"
    }
   ],
   "source": [
    "textblob_sentiment.head()"
   ]
  },
  {
   "cell_type": "code",
   "execution_count": 80,
   "metadata": {},
   "outputs": [],
   "source": [
    "textblob_sentiment.to_csv(\"my_sentiment_score.csv\")"
   ]
  },
  {
   "cell_type": "code",
   "execution_count": 94,
   "metadata": {},
   "outputs": [],
   "source": [
    "polarity_list = []\n",
    "for index, row in textblob_sentiment.iterrows():\n",
    "    polarity_list.append(row[\"senti_score\"].polarity)"
   ]
  },
  {
   "cell_type": "code",
   "execution_count": 97,
   "metadata": {},
   "outputs": [],
   "source": [
    "# polarity_list"
   ]
  },
  {
   "cell_type": "code",
   "execution_count": 95,
   "metadata": {},
   "outputs": [],
   "source": [
    "subjectivity_list = []\n",
    "for index, row in textblob_sentiment.iterrows():\n",
    "    subjectivity_list.append(row[\"senti_score\"].subjectivity)"
   ]
  },
  {
   "cell_type": "code",
   "execution_count": 99,
   "metadata": {},
   "outputs": [],
   "source": [
    "# subjectivity_list"
   ]
  },
  {
   "cell_type": "code",
   "execution_count": 102,
   "metadata": {},
   "outputs": [],
   "source": [
    "textblob_sentiment.columns = ['Text', 'combined_score']"
   ]
  },
  {
   "cell_type": "code",
   "execution_count": 104,
   "metadata": {},
   "outputs": [
    {
     "name": "stderr",
     "output_type": "stream",
     "text": [
      "/opt/anaconda3/lib/python3.7/site-packages/ipykernel_launcher.py:1: SettingWithCopyWarning: \n",
      "A value is trying to be set on a copy of a slice from a DataFrame.\n",
      "Try using .loc[row_indexer,col_indexer] = value instead\n",
      "\n",
      "See the caveats in the documentation: https://pandas.pydata.org/pandas-docs/stable/user_guide/indexing.html#returning-a-view-versus-a-copy\n",
      "  \"\"\"Entry point for launching an IPython kernel.\n"
     ]
    }
   ],
   "source": [
    "textblob_sentiment[\"sentiment_score\"] = polarity_list"
   ]
  },
  {
   "cell_type": "code",
   "execution_count": 105,
   "metadata": {},
   "outputs": [
    {
     "name": "stderr",
     "output_type": "stream",
     "text": [
      "/opt/anaconda3/lib/python3.7/site-packages/ipykernel_launcher.py:1: SettingWithCopyWarning: \n",
      "A value is trying to be set on a copy of a slice from a DataFrame.\n",
      "Try using .loc[row_indexer,col_indexer] = value instead\n",
      "\n",
      "See the caveats in the documentation: https://pandas.pydata.org/pandas-docs/stable/user_guide/indexing.html#returning-a-view-versus-a-copy\n",
      "  \"\"\"Entry point for launching an IPython kernel.\n"
     ]
    }
   ],
   "source": [
    "textblob_sentiment[\"subjectivity_score\"] = subjectivity_list"
   ]
  },
  {
   "cell_type": "code",
   "execution_count": 107,
   "metadata": {},
   "outputs": [],
   "source": [
    "send_to_asha = textblob_sentiment[[\"Text\", \"sentiment_score\", \"subjectivity_score\"]]"
   ]
  },
  {
   "cell_type": "code",
   "execution_count": 108,
   "metadata": {},
   "outputs": [],
   "source": [
    "send_to_asha.to_csv(\"sentiment_score_without_IBM.csv\")"
   ]
  }
 ],
 "metadata": {
  "kernelspec": {
   "display_name": "Python 3",
   "language": "python",
   "name": "python3"
  },
  "language_info": {
   "codemirror_mode": {
    "name": "ipython",
    "version": 3
   },
   "file_extension": ".py",
   "mimetype": "text/x-python",
   "name": "python",
   "nbconvert_exporter": "python",
   "pygments_lexer": "ipython3",
   "version": "3.7.4"
  }
 },
 "nbformat": 4,
 "nbformat_minor": 4
}
